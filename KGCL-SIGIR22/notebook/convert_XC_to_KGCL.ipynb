{
 "cells": [
  {
   "cell_type": "code",
   "execution_count": 1,
   "id": "bcde64dc",
   "metadata": {},
   "outputs": [],
   "source": [
    "import os\n",
    "import random\n",
    "import pandas as pd\n",
    "import numpy as np\n",
    "from tqdm import tqdm, tqdm_notebook\n",
    "from scipy.sparse import csr_matrix"
   ]
  },
  {
   "cell_type": "code",
   "execution_count": 2,
   "id": "f1df3b3a",
   "metadata": {},
   "outputs": [],
   "source": [
    "%load_ext autoreload\n",
    "%autoreload 2"
   ]
  },
  {
   "cell_type": "markdown",
   "id": "18e323a7",
   "metadata": {},
   "source": [
    "## Code"
   ]
  },
  {
   "cell_type": "code",
   "execution_count": 3,
   "id": "d5fc2fe8",
   "metadata": {
    "code_folding": [
     0
    ]
   },
   "outputs": [],
   "source": [
    "def read_data(filename):\n",
    "    with open(filename, encoding='utf-8') as file:\n",
    "        df = file.readlines()\n",
    "    return df"
   ]
  },
  {
   "cell_type": "code",
   "execution_count": 4,
   "id": "70384623",
   "metadata": {
    "code_folding": [
     0
    ]
   },
   "outputs": [],
   "source": [
    "def extract_xc_data(content):\n",
    "    header = content[0]\n",
    "    num_rows, num_cols = header[:-1].split(\" \")\n",
    "    num_rows = int(num_rows)\n",
    "    num_cols = int(num_cols)\n",
    "\n",
    "    indptr = [0]\n",
    "    indices = []\n",
    "    data = []\n",
    "    for line in content[1:]:\n",
    "\n",
    "        line = line[:-1]\n",
    "        column_value = line.split(\" \")\n",
    "        for cv in column_value:\n",
    "            if len(cv):\n",
    "                col_num, value = cv.split(\":\")\n",
    "                col_num = int(col_num)\n",
    "                value = int(value)\n",
    "\n",
    "                indices.append(col_num)\n",
    "                data.append(value)\n",
    "        indptr.append(len(indices))\n",
    "\n",
    "    train_x_y_mat = csr_matrix((data, indices, indptr), dtype=int)\n",
    "\n",
    "    return train_x_y_mat"
   ]
  },
  {
   "cell_type": "code",
   "execution_count": 5,
   "id": "9b2d65c0",
   "metadata": {
    "code_folding": [
     0
    ]
   },
   "outputs": [],
   "source": [
    "def xc_kgcl_kg(trn_x_y, rel=0):\n",
    "    str_repr = \"\"\n",
    "    for r, row in enumerate(trn_x_y):\n",
    "        cols = row.indices\n",
    "        for c in cols:\n",
    "            str_repr += f\"{r} {rel} {c}\\n\"\n",
    "    return str_repr\n"
   ]
  },
  {
   "cell_type": "code",
   "execution_count": 6,
   "id": "125a49bc",
   "metadata": {
    "code_folding": []
   },
   "outputs": [],
   "source": [
    "def xc_kgcl_classification(trn_x_y):\n",
    "    str_repr = \"\"\n",
    "    for r, row in enumerate(trn_x_y):\n",
    "        cols = row.indices\n",
    "        row_str = str(r)+\" \"+\" \".join(map(str, cols))+\"\\n\"\n",
    "        str_repr += row_str\n",
    "    return str_repr\n"
   ]
  },
  {
   "cell_type": "code",
   "execution_count": 7,
   "id": "fb04bc47",
   "metadata": {},
   "outputs": [],
   "source": [
    "def extract_xc_node_id(filename):\n",
    "    ids = []\n",
    "    with open(filename) as file:\n",
    "        for line in file:\n",
    "            ids.append(line[:-1].split('->')[0])\n",
    "    return ids\n"
   ]
  },
  {
   "cell_type": "markdown",
   "id": "80300f27",
   "metadata": {},
   "source": [
    "## Read data"
   ]
  },
  {
   "cell_type": "code",
   "execution_count": 22,
   "id": "0452a6da",
   "metadata": {},
   "outputs": [],
   "source": [
    "xc_dir = \"../../../data/G-LF-WikiSeeAlsoTitles-300K/\""
   ]
  },
  {
   "cell_type": "markdown",
   "id": "c73801e7",
   "metadata": {},
   "source": [
    "- reading the graphs "
   ]
  },
  {
   "cell_type": "code",
   "execution_count": 24,
   "id": "c61e151c",
   "metadata": {},
   "outputs": [],
   "source": [
    "train_file = f\"{xc_dir}/trn_X_Y.txt\"\n",
    "trn_x_y_str = read_data(train_file)\n",
    "trn_x_y_mat = extract_xc_data(trn_x_y_str)\n",
    "\n",
    "test_file = f\"{xc_dir}/tst_X_Y.txt\"\n",
    "tst_x_y_str = read_data(test_file)\n",
    "tst_x_y_mat = extract_xc_data(tst_x_y_str)\n",
    "\n",
    "\n",
    "graph_train_file = f\"{xc_dir}/graph_trn_X_Y.txt\"\n",
    "graph_trn_x_y_str = read_data(graph_train_file)\n",
    "graph_trn_x_y_mat = extract_xc_data(graph_trn_x_y_str)\n",
    "\n",
    "graph_test_file = f\"{xc_dir}/graph_tst_X_Y.txt\"\n",
    "graph_tst_x_y_str = read_data(graph_test_file)\n",
    "graph_tst_x_y_mat = extract_xc_data(graph_tst_x_y_str)\n",
    "\n",
    "\n",
    "graph_label_file = f\"{xc_dir}/graph_lbl_X_Y.txt\"\n",
    "graph_lbl_x_y_str = read_data(graph_label_file)\n",
    "graph_lbl_x_y_mat = extract_xc_data(graph_lbl_x_y_str)"
   ]
  },
  {
   "cell_type": "code",
   "execution_count": 25,
   "id": "0583d8bd",
   "metadata": {},
   "outputs": [
    {
     "data": {
      "text/plain": [
       "((641846, 311696),\n",
       " (280808, 311696),\n",
       " (641846, 3074447),\n",
       " (280808, 3074447),\n",
       " (311696, 3831711))"
      ]
     },
     "execution_count": 25,
     "metadata": {},
     "output_type": "execute_result"
    }
   ],
   "source": [
    "trn_x_y_mat.shape, tst_x_y_mat.shape, graph_trn_x_y_mat.shape, graph_tst_x_y_mat.shape, graph_lbl_x_y_mat.shape"
   ]
  },
  {
   "cell_type": "markdown",
   "id": "77d100a3",
   "metadata": {},
   "source": [
    "- reading the text information"
   ]
  },
  {
   "cell_type": "code",
   "execution_count": 26,
   "id": "298e4424",
   "metadata": {},
   "outputs": [],
   "source": [
    "train_id_file = f\"{xc_dir}/raw_data/train.raw.txt\"\n",
    "train_id = extract_xc_node_id(train_id_file)\n",
    "\n",
    "test_id_file = f\"{xc_dir}/raw_data/test.raw.txt\"\n",
    "test_id = extract_xc_node_id(test_id_file)\n",
    "\n",
    "label_id_file = f\"{xc_dir}/raw_data/label.raw.txt\"\n",
    "label_id = extract_xc_node_id(label_id_file)\n",
    "\n",
    "graph_id_file = f\"{xc_dir}/raw_data/graph.raw.txt\"\n",
    "graph_id = extract_xc_node_id(graph_id_file)"
   ]
  },
  {
   "cell_type": "code",
   "execution_count": 27,
   "id": "04565db3",
   "metadata": {},
   "outputs": [
    {
     "data": {
      "text/plain": [
       "(641846, 280808, 311696, 3831711)"
      ]
     },
     "execution_count": 27,
     "metadata": {},
     "output_type": "execute_result"
    }
   ],
   "source": [
    "len(train_id), len(test_id), len(label_id), len(graph_id)"
   ]
  },
  {
   "cell_type": "markdown",
   "id": "fb2d5289",
   "metadata": {
    "heading_collapsed": true
   },
   "source": [
    "### Classification"
   ]
  },
  {
   "cell_type": "code",
   "execution_count": 9,
   "id": "17d5c922",
   "metadata": {
    "hidden": true
   },
   "outputs": [],
   "source": [
    "trn_str_repr = xc_kgcl_classification(trn_x_y_mat)\n",
    "\n",
    "save_file = \"../data/G-LF-WikiSeeAlsoTitles-300K/train.txt\"\n",
    "os.makedirs(os.path.dirname(save_file), exist_ok=True)\n",
    "\n",
    "with open(save_file, 'w') as file:\n",
    "    file.write(trn_str_repr)"
   ]
  },
  {
   "cell_type": "code",
   "execution_count": 11,
   "id": "d6ce48d7",
   "metadata": {
    "hidden": true
   },
   "outputs": [],
   "source": [
    "tst_str_repr = xc_kgcl_classification(tst_x_y_mat)\n",
    "\n",
    "save_file = \"../data/G-LF-WikiSeeAlsoTitles-300K/test.txt\"\n",
    "os.makedirs(os.path.dirname(save_file), exist_ok=True)\n",
    "\n",
    "with open(save_file, 'w') as file:\n",
    "    file.write(tst_str_repr)"
   ]
  },
  {
   "cell_type": "markdown",
   "id": "49f4e908",
   "metadata": {},
   "source": [
    "### Knowledge graph"
   ]
  },
  {
   "cell_type": "code",
   "execution_count": 31,
   "id": "3cbb7ab8",
   "metadata": {},
   "outputs": [],
   "source": [
    "def create_knowledge_graph(graph, x_ids, y_ids, vocabulary, kg_str, relation):\n",
    "    for r, row in tqdm_notebook(enumerate(graph), total=graph.shape[0]):\n",
    "        col = row.indices\n",
    "        for c in col:\n",
    "            node_a = vocabulary.setdefault(x_ids[r], len(vocabulary))\n",
    "            node_b = vocabulary.setdefault(y_ids[c], len(vocabulary))\n",
    "            kg_str += f'{node_a} {relation} {node_b}\\n'\n",
    "    return kg_str\n",
    "    "
   ]
  },
  {
   "cell_type": "code",
   "execution_count": 32,
   "id": "d9e0c064",
   "metadata": {},
   "outputs": [],
   "source": [
    "vocabulary, kg_str = dict(), \"\""
   ]
  },
  {
   "cell_type": "code",
   "execution_count": 33,
   "id": "2aa3d298",
   "metadata": {},
   "outputs": [
    {
     "name": "stderr",
     "output_type": "stream",
     "text": [
      "/tmp/ipykernel_551696/2057480329.py:2: TqdmDeprecationWarning: This function will be removed in tqdm==5.0.0\n",
      "Please use `tqdm.notebook.tqdm` instead of `tqdm.tqdm_notebook`\n",
      "  for r, row in tqdm_notebook(enumerate(graph), total=graph.shape[0]):\n"
     ]
    },
    {
     "data": {
      "application/json": {
       "ascii": false,
       "bar_format": null,
       "colour": null,
       "elapsed": 0.008501291275024414,
       "initial": 0,
       "n": 0,
       "ncols": null,
       "nrows": 41,
       "postfix": null,
       "prefix": "",
       "rate": null,
       "total": 641846,
       "unit": "it",
       "unit_divisor": 1000,
       "unit_scale": false
      },
      "application/vnd.jupyter.widget-view+json": {
       "model_id": "95793a42ee644d089727ce758ab0c8fa",
       "version_major": 2,
       "version_minor": 0
      },
      "text/plain": [
       "  0%|          | 0/641846 [00:00<?, ?it/s]"
      ]
     },
     "metadata": {},
     "output_type": "display_data"
    }
   ],
   "source": [
    "relation = 0\n",
    "kg_str = create_knowledge_graph(graph_trn_x_y_mat, train_id, graph_id, vocabulary, kg_str, relation)\n"
   ]
  },
  {
   "cell_type": "code",
   "execution_count": 34,
   "id": "0d5fb46c",
   "metadata": {},
   "outputs": [
    {
     "name": "stderr",
     "output_type": "stream",
     "text": [
      "/tmp/ipykernel_551696/2057480329.py:2: TqdmDeprecationWarning: This function will be removed in tqdm==5.0.0\n",
      "Please use `tqdm.notebook.tqdm` instead of `tqdm.tqdm_notebook`\n",
      "  for r, row in tqdm_notebook(enumerate(graph), total=graph.shape[0]):\n"
     ]
    },
    {
     "data": {
      "application/json": {
       "ascii": false,
       "bar_format": null,
       "colour": null,
       "elapsed": 0.017824649810791016,
       "initial": 0,
       "n": 0,
       "ncols": null,
       "nrows": 41,
       "postfix": null,
       "prefix": "",
       "rate": null,
       "total": 280808,
       "unit": "it",
       "unit_divisor": 1000,
       "unit_scale": false
      },
      "application/vnd.jupyter.widget-view+json": {
       "model_id": "b15edc16d676432b9db739d04e79e019",
       "version_major": 2,
       "version_minor": 0
      },
      "text/plain": [
       "  0%|          | 0/280808 [00:00<?, ?it/s]"
      ]
     },
     "metadata": {},
     "output_type": "display_data"
    }
   ],
   "source": [
    "kg_str = create_knowledge_graph(graph_tst_x_y_mat, test_id, graph_id, vocabulary, kg_str, relation)"
   ]
  },
  {
   "cell_type": "code",
   "execution_count": 35,
   "id": "7b953ea8",
   "metadata": {},
   "outputs": [
    {
     "name": "stderr",
     "output_type": "stream",
     "text": [
      "/tmp/ipykernel_551696/2057480329.py:2: TqdmDeprecationWarning: This function will be removed in tqdm==5.0.0\n",
      "Please use `tqdm.notebook.tqdm` instead of `tqdm.tqdm_notebook`\n",
      "  for r, row in tqdm_notebook(enumerate(graph), total=graph.shape[0]):\n"
     ]
    },
    {
     "data": {
      "application/json": {
       "ascii": false,
       "bar_format": null,
       "colour": null,
       "elapsed": 0.014187097549438477,
       "initial": 0,
       "n": 0,
       "ncols": null,
       "nrows": 41,
       "postfix": null,
       "prefix": "",
       "rate": null,
       "total": 311696,
       "unit": "it",
       "unit_divisor": 1000,
       "unit_scale": false
      },
      "application/vnd.jupyter.widget-view+json": {
       "model_id": "161509f081a1410f9b8489899b8dae79",
       "version_major": 2,
       "version_minor": 0
      },
      "text/plain": [
       "  0%|          | 0/311696 [00:00<?, ?it/s]"
      ]
     },
     "metadata": {},
     "output_type": "display_data"
    }
   ],
   "source": [
    "kg_str = create_knowledge_graph(graph_lbl_x_y_mat, label_id, graph_id, vocabulary, kg_str, relation)"
   ]
  },
  {
   "cell_type": "code",
   "execution_count": null,
   "id": "526b5446",
   "metadata": {},
   "outputs": [],
   "source": []
  },
  {
   "cell_type": "code",
   "execution_count": 17,
   "id": "f2004c69",
   "metadata": {},
   "outputs": [],
   "source": [
    "save_file = \"../data/G-LF-WikiSeeAlsoTitles-300K/kg.txt\"\n",
    "with open(save_file, \"w\") as file:\n",
    "    file.write(kg_str)"
   ]
  },
  {
   "cell_type": "code",
   "execution_count": null,
   "id": "26d71285",
   "metadata": {},
   "outputs": [],
   "source": []
  },
  {
   "cell_type": "code",
   "execution_count": null,
   "id": "75f51bb7",
   "metadata": {},
   "outputs": [],
   "source": []
  },
  {
   "cell_type": "code",
   "execution_count": null,
   "id": "d6db1ca9",
   "metadata": {},
   "outputs": [],
   "source": []
  }
 ],
 "metadata": {
  "kernelspec": {
   "display_name": "Python 3 (ipykernel)",
   "language": "python",
   "name": "python3"
  },
  "language_info": {
   "codemirror_mode": {
    "name": "ipython",
    "version": 3
   },
   "file_extension": ".py",
   "mimetype": "text/x-python",
   "name": "python",
   "nbconvert_exporter": "python",
   "pygments_lexer": "ipython3",
   "version": "3.8.15"
  }
 },
 "nbformat": 4,
 "nbformat_minor": 5
}
