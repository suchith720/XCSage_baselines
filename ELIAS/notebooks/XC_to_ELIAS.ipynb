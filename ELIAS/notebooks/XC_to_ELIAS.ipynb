{
 "cells": [
  {
   "cell_type": "code",
   "execution_count": 1,
   "id": "ea779715",
   "metadata": {},
   "outputs": [],
   "source": [
    "import os\n",
    "import scipy.sparse as sp"
   ]
  },
  {
   "cell_type": "markdown",
   "id": "c0f76290",
   "metadata": {},
   "source": [
    "## Helper function"
   ]
  },
  {
   "cell_type": "code",
   "execution_count": 2,
   "id": "55c314ce",
   "metadata": {
    "code_folding": [
     0
    ]
   },
   "outputs": [],
   "source": [
    "def extract_xc_data(content):\n",
    "    header = content[0]\n",
    "    num_rows, num_cols = header[:-1].split(\" \")\n",
    "    num_rows = int(num_rows)\n",
    "    num_cols = int(num_cols)\n",
    "\n",
    "    indptr = [0]\n",
    "    indices = []\n",
    "    data = []\n",
    "    for line in content[1:]:\n",
    "\n",
    "        line = line[:-1]\n",
    "        column_value = line.split(\" \")\n",
    "        for cv in column_value:\n",
    "            if len(cv):\n",
    "                col_num, value = cv.split(\":\")\n",
    "                col_num = int(col_num)\n",
    "                value = float(value)\n",
    "\n",
    "                indices.append(col_num)\n",
    "                data.append(value)\n",
    "        indptr.append(len(indices))\n",
    "\n",
    "    train_x_y_mat = sp.csr_matrix((data, indices, indptr), dtype=float)\n",
    "\n",
    "    return train_x_y_mat\n"
   ]
  },
  {
   "cell_type": "code",
   "execution_count": 3,
   "id": "ebf97df1",
   "metadata": {
    "code_folding": [
     0
    ]
   },
   "outputs": [],
   "source": [
    "def extract_xc_text(content):\n",
    "    trn_x = []\n",
    "    for line in content:\n",
    "        _, text = line.split('->')\n",
    "        trn_x.append(text)\n",
    "    return trn_x\n"
   ]
  },
  {
   "cell_type": "code",
   "execution_count": 4,
   "id": "8ec288e9",
   "metadata": {
    "code_folding": [
     0
    ]
   },
   "outputs": [],
   "source": [
    "def read_data(filename):\n",
    "    with open(filename, encoding='utf-8') as file:\n",
    "        df = file.readlines()\n",
    "    return df\n"
   ]
  },
  {
   "cell_type": "markdown",
   "id": "f67d9eeb",
   "metadata": {},
   "source": [
    "## Conversion"
   ]
  },
  {
   "cell_type": "code",
   "execution_count": 5,
   "id": "7857a90f",
   "metadata": {},
   "outputs": [],
   "source": [
    "xc_dir = \"/mnt/b100/d0/anshumitts/scratch/XC/data\"\n",
    "xc_dataset_name = 'G-LF-WikiSeeAlsoTitles-300K'"
   ]
  },
  {
   "cell_type": "code",
   "execution_count": 6,
   "id": "a513b0b1",
   "metadata": {},
   "outputs": [],
   "source": [
    "save_dir = \"../Datasets\""
   ]
  },
  {
   "cell_type": "markdown",
   "id": "a35b8c64",
   "metadata": {},
   "source": [
    "### Classification-matrix"
   ]
  },
  {
   "cell_type": "code",
   "execution_count": 7,
   "id": "b98ba9a8",
   "metadata": {},
   "outputs": [],
   "source": [
    "trn_x_y_str = read_data(f'{xc_dir}/{xc_dataset_name}/trn_X_Y.txt')\n",
    "trn_x_y = extract_xc_data(trn_x_y_str)\n",
    "\n",
    "tst_x_y_str = read_data(f'{xc_dir}/{xc_dataset_name}/tst_X_Y.txt')\n",
    "tst_x_y = extract_xc_data(tst_x_y_str)"
   ]
  },
  {
   "cell_type": "code",
   "execution_count": 8,
   "id": "29b403a8",
   "metadata": {},
   "outputs": [
    {
     "data": {
      "text/plain": [
       "(<641846x311696 sparse matrix of type '<class 'numpy.float64'>'\n",
       " \twith 1353908 stored elements in Compressed Sparse Row format>,\n",
       " <280808x311696 sparse matrix of type '<class 'numpy.float64'>'\n",
       " \twith 684324 stored elements in Compressed Sparse Row format>)"
      ]
     },
     "execution_count": 8,
     "metadata": {},
     "output_type": "execute_result"
    }
   ],
   "source": [
    "trn_x_y, tst_x_y"
   ]
  },
  {
   "cell_type": "code",
   "execution_count": 10,
   "id": "9d697fb2",
   "metadata": {},
   "outputs": [],
   "source": [
    "elias_dir = f'{save_dir}/{xc_dataset_name}'\n",
    "os.makedirs(elias_dir, exist_ok=True)\n",
    "\n",
    "sp.save_npz(f'{elias_dir}/Y.trn.npz', trn_x_y)\n",
    "sp.save_npz(f'{elias_dir}/Y.tst.npz', tst_x_y)"
   ]
  },
  {
   "cell_type": "markdown",
   "id": "d221bb77",
   "metadata": {},
   "source": [
    "### Text-data"
   ]
  },
  {
   "cell_type": "code",
   "execution_count": 11,
   "id": "59c9e1d0",
   "metadata": {},
   "outputs": [],
   "source": [
    "text_dir = f'{xc_dir}/{xc_dataset_name}/raw_data'\n",
    "\n",
    "elias_dir = f'{save_dir}/{xc_dataset_name}/raw'\n",
    "os.makedirs(elias_dir, exist_ok=True)"
   ]
  },
  {
   "cell_type": "code",
   "execution_count": 12,
   "id": "19e18489",
   "metadata": {},
   "outputs": [],
   "source": [
    "trn_x_txt = read_data(f'{text_dir}/train.raw.txt')\n",
    "trn_x = extract_xc_text(trn_x_txt)\n",
    "\n",
    "with open(f'{elias_dir}/trn_X.txt', 'w') as file:\n",
    "    file.writelines(trn_x)"
   ]
  },
  {
   "cell_type": "code",
   "execution_count": 13,
   "id": "ff6f6c45",
   "metadata": {},
   "outputs": [],
   "source": [
    "tst_x_txt = read_data(f'{text_dir}/test.raw.txt')\n",
    "tst_x = extract_xc_text(tst_x_txt)\n",
    "\n",
    "with open(f'{elias_dir}/tst_X.txt', 'w') as file:\n",
    "    file.writelines(tst_x)"
   ]
  },
  {
   "cell_type": "markdown",
   "id": "b7b8552e",
   "metadata": {},
   "source": [
    "### BOW"
   ]
  },
  {
   "cell_type": "code",
   "execution_count": 14,
   "id": "2190ae7e",
   "metadata": {},
   "outputs": [],
   "source": [
    "bow_dir = f'{xc_dir}/{xc_dataset_name}'"
   ]
  },
  {
   "cell_type": "code",
   "execution_count": 16,
   "id": "696865ef",
   "metadata": {},
   "outputs": [],
   "source": [
    "trn_bow_str = read_data(f'{xc_dir}/{xc_dataset_name}/train_X_Xf.txt')\n",
    "trn_bow = extract_xc_data(trn_bow_str)\n",
    "\n",
    "tst_bow_str = read_data(f'{xc_dir}/{xc_dataset_name}/test_X_Xf.txt')\n",
    "tst_bow = extract_xc_data(tst_bow_str)"
   ]
  },
  {
   "cell_type": "code",
   "execution_count": 17,
   "id": "44ed8671",
   "metadata": {},
   "outputs": [
    {
     "data": {
      "text/plain": [
       "(<641846x40001 sparse matrix of type '<class 'numpy.float64'>'\n",
       " \twith 2553594 stored elements in Compressed Sparse Row format>,\n",
       " <280808x40001 sparse matrix of type '<class 'numpy.float64'>'\n",
       " \twith 1119273 stored elements in Compressed Sparse Row format>)"
      ]
     },
     "execution_count": 17,
     "metadata": {},
     "output_type": "execute_result"
    }
   ],
   "source": [
    "trn_bow, tst_bow"
   ]
  },
  {
   "cell_type": "code",
   "execution_count": 18,
   "id": "af198093",
   "metadata": {},
   "outputs": [],
   "source": [
    "elias_dir = f'{save_dir}/{xc_dataset_name}'\n",
    "os.makedirs(elias_dir, exist_ok=True)\n",
    "\n",
    "sp.save_npz(f'{elias_dir}/X.trn.npz', trn_x_y)\n",
    "sp.save_npz(f'{elias_dir}/X.tst.npz', tst_x_y)"
   ]
  },
  {
   "cell_type": "code",
   "execution_count": null,
   "id": "c7c7a61d",
   "metadata": {},
   "outputs": [],
   "source": []
  }
 ],
 "metadata": {
  "kernelspec": {
   "display_name": "Python 3 (ipykernel)",
   "language": "python",
   "name": "python3"
  },
  "language_info": {
   "codemirror_mode": {
    "name": "ipython",
    "version": 3
   },
   "file_extension": ".py",
   "mimetype": "text/x-python",
   "name": "python",
   "nbconvert_exporter": "python",
   "pygments_lexer": "ipython3",
   "version": "3.8.16"
  }
 },
 "nbformat": 4,
 "nbformat_minor": 5
}
